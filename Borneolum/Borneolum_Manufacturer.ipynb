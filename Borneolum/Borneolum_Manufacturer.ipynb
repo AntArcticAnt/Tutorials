{
 "cells": [
  {
   "cell_type": "code",
   "execution_count": 1,
   "metadata": {
    "collapsed": true
   },
   "outputs": [],
   "source": [
    "import pandas as pd"
   ]
  },
  {
   "cell_type": "code",
   "execution_count": 2,
   "metadata": {
    "collapsed": true
   },
   "outputs": [],
   "source": [
    "Borneolum = pd.read_csv('csv/borneolum.csv', encoding='gbk')"
   ]
  },
  {
   "cell_type": "code",
   "execution_count": 3,
   "metadata": {},
   "outputs": [
    {
     "data": {
      "text/html": [
       "<div>\n",
       "<style>\n",
       "    .dataframe thead tr:only-child th {\n",
       "        text-align: right;\n",
       "    }\n",
       "\n",
       "    .dataframe thead th {\n",
       "        text-align: left;\n",
       "    }\n",
       "\n",
       "    .dataframe tbody tr th {\n",
       "        vertical-align: top;\n",
       "    }\n",
       "</style>\n",
       "<table border=\"1\" class=\"dataframe\">\n",
       "  <thead>\n",
       "    <tr style=\"text-align: right;\">\n",
       "      <th></th>\n",
       "      <th>厂商</th>\n",
       "      <th>纯度</th>\n",
       "      <th>价格</th>\n",
       "      <th>检验报告</th>\n",
       "      <th>种植基地</th>\n",
       "      <th>联系人</th>\n",
       "      <th>联系方式</th>\n",
       "    </tr>\n",
       "  </thead>\n",
       "  <tbody>\n",
       "    <tr>\n",
       "      <th>0</th>\n",
       "      <td>江西省吉水县赣旭香料油厂</td>\n",
       "      <td>60%</td>\n",
       "      <td>630元/千克</td>\n",
       "      <td>无</td>\n",
       "      <td>1000亩</td>\n",
       "      <td>许明亮</td>\n",
       "      <td>MB：18970609827</td>\n",
       "    </tr>\n",
       "    <tr>\n",
       "      <th>1</th>\n",
       "      <td>吉安市中香天然植物有限公司</td>\n",
       "      <td>96%</td>\n",
       "      <td>1300元/千克</td>\n",
       "      <td>出厂检验</td>\n",
       "      <td>1000亩</td>\n",
       "      <td>梁玉香</td>\n",
       "      <td>MB：13694868761</td>\n",
       "    </tr>\n",
       "    <tr>\n",
       "      <th>2</th>\n",
       "      <td>吉安市中香天然植物有限公司</td>\n",
       "      <td>99%</td>\n",
       "      <td>2600元/千克</td>\n",
       "      <td>出厂检验</td>\n",
       "      <td></td>\n",
       "      <td></td>\n",
       "      <td></td>\n",
       "    </tr>\n",
       "    <tr>\n",
       "      <th>3</th>\n",
       "      <td>吉安市荣盛植物有限公司</td>\n",
       "      <td>95%</td>\n",
       "      <td>1200元/千克</td>\n",
       "      <td>无</td>\n",
       "      <td>8600亩</td>\n",
       "      <td>王祥珍</td>\n",
       "      <td>MB:13755483299</td>\n",
       "    </tr>\n",
       "    <tr>\n",
       "      <th>4</th>\n",
       "      <td>江西雪松天然药用油有限公司</td>\n",
       "      <td>96%</td>\n",
       "      <td>1100元/千克</td>\n",
       "      <td>出厂检验</td>\n",
       "      <td>1000亩</td>\n",
       "      <td>胡叶芳</td>\n",
       "      <td>MB:15779165309</td>\n",
       "    </tr>\n",
       "    <tr>\n",
       "      <th>5</th>\n",
       "      <td>江西鑫森天然植物油有限公司</td>\n",
       "      <td>96%</td>\n",
       "      <td>1200元/千克</td>\n",
       "      <td>出厂检验</td>\n",
       "      <td>8000亩</td>\n",
       "      <td>郑夏亮</td>\n",
       "      <td>MB:18979624270</td>\n",
       "    </tr>\n",
       "  </tbody>\n",
       "</table>\n",
       "</div>"
      ],
      "text/plain": [
       "            \\t厂商   纯度        价格  检验报告   种植基地  联系人            联系方式\n",
       "0   江西省吉水县赣旭香料油厂  60%   630元/千克     无  1000亩  许明亮  MB：18970609827\n",
       "1  吉安市中香天然植物有限公司  96%  1300元/千克  出厂检验  1000亩  梁玉香  MB：13694868761\n",
       "2  吉安市中香天然植物有限公司  99%  2600元/千克  出厂检验                            \n",
       "3    吉安市荣盛植物有限公司  95%  1200元/千克     无  8600亩  王祥珍  MB:13755483299\n",
       "4  江西雪松天然药用油有限公司  96%  1100元/千克  出厂检验  1000亩  胡叶芳  MB:15779165309\n",
       "5  江西鑫森天然植物油有限公司  96%  1200元/千克  出厂检验  8000亩  郑夏亮  MB:18979624270"
      ]
     },
     "execution_count": 3,
     "metadata": {},
     "output_type": "execute_result"
    }
   ],
   "source": [
    "Borneolum.fillna('')"
   ]
  }
 ],
 "metadata": {
  "kernelspec": {
   "display_name": "Python 2",
   "language": "python",
   "name": "python2"
  },
  "language_info": {
   "codemirror_mode": {
    "name": "ipython",
    "version": 2
   },
   "file_extension": ".py",
   "mimetype": "text/x-python",
   "name": "python",
   "nbconvert_exporter": "python",
   "pygments_lexer": "ipython2",
   "version": "2.7.15"
  }
 },
 "nbformat": 4,
 "nbformat_minor": 2
}
